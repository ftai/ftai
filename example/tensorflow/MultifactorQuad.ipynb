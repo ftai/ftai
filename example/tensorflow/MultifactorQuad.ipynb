{
 "cells": [
  {
   "cell_type": "markdown",
   "metadata": {},
   "source": [
    "Approximation of 3 factor (Tensorflow)\n",
    "Input 10 (3factor data) -> output 10 factor\n",
    "It is expected that mininum inntermeditate nodes be only 3.\n",
    "But it seems no."
   ]
  },
  {
   "cell_type": "code",
   "execution_count": null,
   "metadata": {
    "collapsed": false,
    "scrolled": true
   },
   "outputs": [
    {
     "data": {
      "image/png": "[encoded data removed]",
      "text/plain": [
       "<matplotlib.figure.Figure at 0x1254f2e10>"
      ]
     },
     "metadata": {},
     "output_type": "display_data"
    }
   ],
   "source": [
    "import tensorflow as tf\n",
    "import numpy as np\n",
    "from IPython import display\n",
    "from matplotlib import pyplot as plt\n",
    "%matplotlib inline\n",
    "\n",
    "factorNum = 3\n",
    "dataDim = 10\n",
    "resultDim = 10\n",
    "node1Num = 32\n",
    "node2Num = 16\n",
    "node3Num = 8\n",
    "node4Num =4\n",
    "node5Num = 8\n",
    "node6Num = 16\n",
    "node7Num = 32\n",
    "\n",
    "ftodConvertMat = np.random.randn(factorNum, dataDim)\n",
    "\n",
    "def get_batch(dataNum):\n",
    "    factorRandMatS = np.random.randn(dataNum, factorNum)\n",
    "    factorRandMat = factorRandMatS*factorRandMatS\n",
    "    dataRandMatS = factorRandMat.dot(ftodConvertMat)\n",
    "    dataRandMat = dataRandMatS * dataRandMatS\n",
    "    return dataRandMat,dataRandMat\n",
    "\n",
    "\n",
    "def leaky_relu(x,alpha=0.2):\n",
    "    return tf.maximum(alpha*x,x)\n",
    "\n",
    "sess = tf.InteractiveSession() # sess=tf.InteractiveSession()    (not ipython)\n",
    "\n",
    "x_ = tf.placeholder(tf.float32, shape=[None, dataDim]) # input\n",
    "t_ = tf.placeholder(tf.float32, shape=[None, resultDim]) # output\n",
    "\n",
    "W1 = tf.Variable(tf.random_normal([dataDim,node1Num]))\n",
    "b1  = tf.Variable(tf.zeros([node1Num]))\n",
    "\n",
    "W2 =  tf.Variable(tf.random_normal([node1Num,node2Num]))\n",
    "b2  = tf.Variable(tf.zeros([node2Num]))\n",
    "\n",
    "W3 =  tf.Variable(tf.random_normal([node2Num,node3Num]))\n",
    "b3  = tf.Variable(tf.zeros([node3Num]))\n",
    "W4 =  tf.Variable(tf.random_normal([node3Num,node4Num]))\n",
    "b4  = tf.Variable(tf.zeros([node4Num]))\n",
    "\n",
    "W5 =  tf.Variable(tf.random_normal([node4Num,node5Num]))\n",
    "b5  = tf.Variable(tf.zeros([node5Num]))\n",
    "W6 =  tf.Variable(tf.random_normal([node5Num,node6Num]))\n",
    "b6  = tf.Variable(tf.zeros([node6Num]))\n",
    "W7 =  tf.Variable(tf.random_normal([node6Num,node7Num]))\n",
    "b7  = tf.Variable(tf.zeros([node7Num]))\n",
    "\n",
    "\n",
    "W8 =  tf.Variable(tf.random_normal([node7Num,resultDim]))\n",
    "b8  =  tf.Variable(tf.zeros([resultDim]))\n",
    "\n",
    "sess.run(tf.initialize_all_variables())\n",
    "\n",
    "h1 = leaky_relu(tf.matmul(x_,W1)+b1)\n",
    "h2 = leaky_relu(tf.matmul(h1,W2)+b2)\n",
    "h3 = leaky_relu(tf.matmul(h2,W3)+b3)\n",
    "h4 = leaky_relu(tf.matmul(h3,W4)+b4)\n",
    "h5 = leaky_relu(tf.matmul(h4,W5)+b5)\n",
    "h6 = leaky_relu(tf.matmul(h5,W6)+b6)\n",
    "h7 = leaky_relu(tf.matmul(h6,W7)+b7)\n",
    "y   = leaky_relu(tf.matmul(h7,W8)+b8)\n",
    "e   =tf.nn.l2_loss(y-t_)\n",
    "tf.scalar_summary(\"diffl2\", e)\n",
    "\n",
    "train_step = tf.train.AdamOptimizer().minimize(e)\n",
    "\n",
    "losses =[]\n",
    "sess.run(tf.initialize_all_variables())\n",
    "\n",
    "saver = tf.train.Saver()\n",
    "\n",
    "summary_op = tf.merge_all_summaries()\n",
    "summary_writer = tf.train.SummaryWriter(\"/tmp/MultifactorQuad.tflog\",\n",
    "                                        graph_def=sess.graph_def)\n",
    "\n",
    "batch_size=100\n",
    "for i in range(200000):\n",
    "    x,t = get_batch(batch_size)\n",
    "\n",
    "    x = x.astype(np.float32).reshape(batch_size,dataDim)\n",
    "    t = t.astype(np.float32).reshape(batch_size,dataDim)\n",
    "    feed_dict={x_: x, t_:t}\n",
    "    loss= e.eval(feed_dict=feed_dict)\n",
    "    losses.append(loss)\n",
    "    train_step.run(feed_dict=feed_dict)\n",
    "    if i%100==99:\n",
    "        plt.hold(False)\n",
    "        plt.plot(losses,\"b\")\n",
    "        plt.yscale('log')\n",
    "        display.display(plt.gcf()) \n",
    "        display.clear_output(wait=True)\n",
    "        summary_str = sess.run(summary_op, feed_dict=feed_dict)\n",
    "        summary_writer.add_summary(summary_str, i)\n",
    "    if i%10000==9999:\n",
    "        saver.save(sess, \"multi.ckpt\")\n"
   ]
  },
  {
   "cell_type": "code",
   "execution_count": null,
   "metadata": {
    "collapsed": true
   },
   "outputs": [],
   "source": []
  }
 ],
 "metadata": {
  "kernelspec": {
   "display_name": "Python [Root]",
   "language": "python",
   "name": "Python [Root]"
  },
  "language_info": {
   "codemirror_mode": {
    "name": "ipython",
    "version": 3
   },
   "file_extension": ".py",
   "mimetype": "text/x-python",
   "name": "python",
   "nbconvert_exporter": "python",
   "pygments_lexer": "ipython3",
   "version": "3.5.1"
  }
 },
 "nbformat": 4,
 "nbformat_minor": 0
}
