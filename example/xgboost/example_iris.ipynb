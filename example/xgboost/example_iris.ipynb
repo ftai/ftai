{
 "cells": [
  {
   "cell_type": "code",
   "execution_count": 32,
   "metadata": {
    "collapsed": true
   },
   "outputs": [],
   "source": [
    "import numpy as np\n",
    "import xgboost as xgb\n",
    "import pandas as pd\n",
    "from sklearn import datasets"
   ]
  },
  {
   "cell_type": "code",
   "execution_count": 33,
   "metadata": {
    "collapsed": true
   },
   "outputs": [],
   "source": [
    "iris=datasets.load_iris()\n",
    "#Even number's data is for training\n",
    "trainX=iris.data[1::2,:]\n",
    "trainY=iris.target[1::2]\n",
    "#Odd number's data is for test\n",
    "testX=iris.data[2::2,:]\n",
    "testY=iris.target[2::2]"
   ]
  },
  {
   "cell_type": "code",
   "execution_count": 34,
   "metadata": {
    "collapsed": false
   },
   "outputs": [],
   "source": [
    "#transform to DMatrix\n",
    "trainX=pd.DataFrame(trainX)\n",
    "trainX.columns=iris.feature_names\n",
    "dtrain=xgb.DMatrix(trainX.as_matrix(),label=trainY.tolist())\n",
    "testX=pd.DataFrame(testX)\n",
    "testX.columns=iris.feature_names\n",
    "dtest=xgb.DMatrix(testX.as_matrix())"
   ]
  },
  {
   "cell_type": "code",
   "execution_count": 35,
   "metadata": {
    "collapsed": false
   },
   "outputs": [],
   "source": [
    "np.random.seed(131)"
   ]
  },
  {
   "cell_type": "code",
   "execution_count": 36,
   "metadata": {
    "collapsed": true
   },
   "outputs": [],
   "source": [
    "params={'objective':'multi:softprob',\n",
    "       'eval_metric':'mlogloss',\n",
    "       'eta':0.3, # default=0.3\n",
    "       'max_depth':6, #max depth of tree [default=6]\n",
    "       'min_child_weight':1, #[default=1]\n",
    "       'subsample':1,#[default=1]\n",
    "       'num_class':3\n",
    "       }"
   ]
  },
  {
   "cell_type": "code",
   "execution_count": 37,
   "metadata": {
    "collapsed": true
   },
   "outputs": [],
   "source": [
    "#do training\n",
    "bst=xgb.train(params,dtrain,num_boost_round=18)"
   ]
  },
  {
   "cell_type": "code",
   "execution_count": 38,
   "metadata": {
    "collapsed": false
   },
   "outputs": [
    {
     "name": "stdout",
     "output_type": "stream",
     "text": [
      "{'f1': 4, 'f0': 3, 'f3': 39, 'f2': 70}\n"
     ]
    }
   ],
   "source": [
    "# calc variable score\n",
    "imp=bst.get_fscore()\n",
    "print(imp)"
   ]
  },
  {
   "cell_type": "code",
   "execution_count": 39,
   "metadata": {
    "collapsed": false
   },
   "outputs": [
    {
     "name": "stderr",
     "output_type": "stream",
     "text": [
      "/home/vagrant/.pyenv/versions/anaconda3-4.0.0/lib/python3.5/site-packages/xgboost/training.py:272: VisibleDeprecationWarning: using a non-integer number instead of an integer will result in an error in the future\n",
      "  idset = [randidx[(i * kstep): min(len(randidx), (i + 1) * kstep)] for i in range(nfold)]\n"
     ]
    },
    {
     "data": {
      "text/html": [
       "<div>\n",
       "<table border=\"1\" class=\"dataframe\">\n",
       "  <thead>\n",
       "    <tr style=\"text-align: right;\">\n",
       "      <th></th>\n",
       "      <th>test-mlogloss-mean</th>\n",
       "      <th>test-mlogloss-std</th>\n",
       "      <th>train-mlogloss-mean</th>\n",
       "      <th>train-mlogloss-std</th>\n",
       "    </tr>\n",
       "  </thead>\n",
       "  <tbody>\n",
       "    <tr>\n",
       "      <th>0</th>\n",
       "      <td>0.771650</td>\n",
       "      <td>0.038101</td>\n",
       "      <td>0.753921</td>\n",
       "      <td>0.008132</td>\n",
       "    </tr>\n",
       "    <tr>\n",
       "      <th>1</th>\n",
       "      <td>0.568656</td>\n",
       "      <td>0.053669</td>\n",
       "      <td>0.545685</td>\n",
       "      <td>0.007138</td>\n",
       "    </tr>\n",
       "    <tr>\n",
       "      <th>2</th>\n",
       "      <td>0.436034</td>\n",
       "      <td>0.068086</td>\n",
       "      <td>0.408324</td>\n",
       "      <td>0.006829</td>\n",
       "    </tr>\n",
       "    <tr>\n",
       "      <th>3</th>\n",
       "      <td>0.346780</td>\n",
       "      <td>0.086041</td>\n",
       "      <td>0.313613</td>\n",
       "      <td>0.006850</td>\n",
       "    </tr>\n",
       "  </tbody>\n",
       "</table>\n",
       "</div>"
      ],
      "text/plain": [
       "   test-mlogloss-mean  test-mlogloss-std  train-mlogloss-mean  \\\n",
       "0            0.771650           0.038101             0.753921   \n",
       "1            0.568656           0.053669             0.545685   \n",
       "2            0.436034           0.068086             0.408324   \n",
       "3            0.346780           0.086041             0.313613   \n",
       "\n",
       "   train-mlogloss-std  \n",
       "0            0.008132  \n",
       "1            0.007138  \n",
       "2            0.006829  \n",
       "3            0.006850  "
      ]
     },
     "execution_count": 39,
     "metadata": {},
     "output_type": "execute_result"
    }
   ],
   "source": [
    "cv=xgb.cv(params,dtrain,num_boost_round=40,nfold=10)\n",
    "cv.head(4)"
   ]
  },
  {
   "cell_type": "code",
   "execution_count": 40,
   "metadata": {
    "collapsed": false
   },
   "outputs": [
    {
     "name": "stdout",
     "output_type": "stream",
     "text": [
      "[[24  0  0]\n",
      " [ 0 21  4]\n",
      " [ 0  1 24]]\n"
     ]
    },
    {
     "name": "stderr",
     "output_type": "stream",
     "text": [
      "/home/vagrant/.pyenv/versions/anaconda3-4.0.0/lib/python3.5/site-packages/xgboost/core.py:840: VisibleDeprecationWarning: using a non-integer number instead of an integer will result in an error in the future\n",
      "  preds = preds.reshape(nrow, preds.size / nrow)\n"
     ]
    }
   ],
   "source": [
    "bst=xgb.train(params,dtrain,18)\n",
    "pred=bst.predict(dtest)\n",
    "pred=pd.DataFrame(pred)\n",
    "from sklearn.metrics import confusion_matrix\n",
    "print(confusion_matrix(testY, pred.idxmax(axis=1)))"
   ]
  },
  {
   "cell_type": "code",
   "execution_count": null,
   "metadata": {
    "collapsed": true
   },
   "outputs": [],
   "source": []
  }
 ],
 "metadata": {
  "kernelspec": {
   "display_name": "Python 3",
   "language": "python",
   "name": "python3"
  },
  "language_info": {
   "codemirror_mode": {
    "name": "ipython",
    "version": 3
   },
   "file_extension": ".py",
   "mimetype": "text/x-python",
   "name": "python",
   "nbconvert_exporter": "python",
   "pygments_lexer": "ipython3",
   "version": "3.5.1"
  }
 },
 "nbformat": 4,
 "nbformat_minor": 0
}
