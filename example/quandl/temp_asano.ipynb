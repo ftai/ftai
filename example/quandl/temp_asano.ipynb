{
 "cells": [
  {
   "cell_type": "markdown",
   "metadata": {
    "collapsed": true
   },
   "source": [
    "# Quandlの練習など\n",
    "\n",
    "そもそも何のデータがとれるのか？\n",
    "\n",
    "## 課題\n",
    "\n",
    "難易度の低そうな実験用の課題。\n",
    "経済指標関連で、遅行するものを当てる。\n",
    "\n",
    "1. 日本のCPI（季節調整前）はかなり強い季節性がある。季節要因を見つけられるかどうか。\n",
    "1. GDP（先行指標）→CPIや賃金（遅行指標）の予測。\n",
    "1. ADP雇用統計→本物の（労働省の）雇用統計の予測。\n",
    "\n",
    "もう少し実用性のある課題で難易度が妥当そうなもの。\n",
    "\n",
    "1. 寄り付き直前までに取得可能な海外市況の情報から、JGB先物の寄り付き価格を予測（日経平均先物は夜も開いているので面白くない）。\n",
    "1. 個別企業の財務データから今後の配当を予測（個別株のフォワードを引くため、日経平均先物のカレンダーなども使ってもよい）。\n",
    "1. 過去の値動きから、今後のリアライズ・ボラティリティ（オプションの流動性が低いもの）や相関を予測。\n",
    "1. 個別株の値動き、iTraxxやCDXなど流動性のあるCDSインデックスから、個別企業の倒産確率を予測（個別株オプションを使ってもよい）。\n",
    "1. 原油価格先物→物価連動国債の予測。\n",
    "\n",
    "もしもできたら儲かるもの（難易度高い）。\n",
    "\n",
    "1. 為替や先物のトレーディング戦略など、アルファを創出するもの。"
   ]
  },
  {
   "cell_type": "code",
   "execution_count": 1,
   "metadata": {
    "collapsed": true
   },
   "outputs": [],
   "source": [
    "import quandl as ql\n",
    "import pandas as pd\n",
    "\n",
    "ql.ApiConfig.api_key = 'CbzNMfBFSFEFsiNNAe97' # APIKeyを置かないと取得制限"
   ]
  },
  {
   "cell_type": "markdown",
   "metadata": {},
   "source": [
    "## 消費者物価指数が取れるかどうか"
   ]
  },
  {
   "cell_type": "code",
   "execution_count": null,
   "metadata": {
    "collapsed": true
   },
   "outputs": [],
   "source": [
    "df_GDP = ql.get('RATEINF/CPI_JPN-Consumer-Price-Index-Japan') # 日本CPI\n",
    "df_GDP.tail(10)"
   ]
  }
 ],
 "metadata": {
  "kernelspec": {
   "display_name": "Python 3",
   "language": "python",
   "name": "python3"
  },
  "language_info": {
   "codemirror_mode": {
    "name": "ipython",
    "version": 3
   },
   "file_extension": ".py",
   "mimetype": "text/x-python",
   "name": "python",
   "nbconvert_exporter": "python",
   "pygments_lexer": "ipython3",
   "version": "3.5.1"
  }
 },
 "nbformat": 4,
 "nbformat_minor": 0
}
