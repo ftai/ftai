{
 "cells": [
  {
   "cell_type": "code",
   "execution_count": 1,
   "metadata": {
    "collapsed": true
   },
   "outputs": [],
   "source": [
    "from sklearn import tree\n",
    "import quandl as ql\n",
    "import pandas as pd\n",
    "import math as math\n",
    "\n",
    "ql.ApiConfig.api_key = 'CbzNMfBFSFEFsiNNAe97'"
   ]
  },
  {
   "cell_type": "code",
   "execution_count": 2,
   "metadata": {
    "collapsed": true
   },
   "outputs": [],
   "source": [
    "df_NIKKEI = ql.get('NIKKEI/INDEX')\n",
    "df_FXRate = ql.get('FED/RXI_N_B_JA')"
   ]
  },
  {
   "cell_type": "code",
   "execution_count": 3,
   "metadata": {
    "collapsed": false
   },
   "outputs": [],
   "source": [
    "#Nikkei data have newer data than that of FXRate\n",
    "N=35\n",
    "#M<N\n",
    "M=20\n",
    "df_concat = pd.concat([df_NIKKEI, df_FXRate], axis=1)\n",
    "X = df_NIKKEI.tail(N+2)\n",
    "Y = df_FXRate.tail(N)\n",
    "Z = df_concat.tail(N)\n",
    "samples = []\n",
    "values = []\n",
    "for i in range(1, M):\n",
    "    if math.isnan(Z.ix[i,4]) == False and math.isnan(Z.ix[i-1,4]) == False:\n",
    "        #Today's Nikkei prices\n",
    "        samples.append(list(Z.ix[i,0:4]))\n",
    "        #Difference to yesterday's FXRate\n",
    "        values = values + [int(Z.ix[i,4] - Z.ix[i-1,4])]\n",
    "\n",
    "clf = tree.DecisionTreeClassifier()\n",
    "clf = clf.fit(samples, values)"
   ]
  },
  {
   "cell_type": "code",
   "execution_count": 4,
   "metadata": {
    "collapsed": false
   },
   "outputs": [],
   "source": [
    "tests = []\n",
    "answers = []\n",
    "for i in range(M, N):\n",
    "    if math.isnan(Z.ix[i,4]) == False and math.isnan(Z.ix[i-1,4]) == False:\n",
    "        tests.append(list(Z.ix[i,0:4]))\n",
    "        answers = answers + [int(Z.ix[i,4] - Z.ix[i-1,4])]"
   ]
  },
  {
   "cell_type": "code",
   "execution_count": 5,
   "metadata": {
    "collapsed": false
   },
   "outputs": [
    {
     "name": "stdout",
     "output_type": "stream",
     "text": [
      "[0 0 0 0 0 0 0 0 0 0]\n"
     ]
    }
   ],
   "source": [
    "print(clf.predict(tests))"
   ]
  },
  {
   "cell_type": "code",
   "execution_count": 6,
   "metadata": {
    "collapsed": false
   },
   "outputs": [
    {
     "name": "stdout",
     "output_type": "stream",
     "text": [
      "[0, 0, 0, -1, 0, 0, 0, 0, 1, -3]\n"
     ]
    }
   ],
   "source": [
    "#Answer\n",
    "print(answers)"
   ]
  },
  {
   "cell_type": "code",
   "execution_count": null,
   "metadata": {
    "collapsed": true
   },
   "outputs": [],
   "source": []
  }
 ],
 "metadata": {
  "kernelspec": {
   "display_name": "Python 3",
   "language": "python",
   "name": "python3"
  },
  "language_info": {
   "codemirror_mode": {
    "name": "ipython",
    "version": 3
   },
   "file_extension": ".py",
   "mimetype": "text/x-python",
   "name": "python",
   "nbconvert_exporter": "python",
   "pygments_lexer": "ipython3",
   "version": "3.5.1"
  }
 },
 "nbformat": 4,
 "nbformat_minor": 0
}
